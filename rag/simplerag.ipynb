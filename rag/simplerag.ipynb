{
 "cells": [
  {
   "cell_type": "code",
   "execution_count": 1,
   "metadata": {},
   "outputs": [
    {
     "data": {
      "text/plain": [
       "[Document(page_content='The world must be made safe for democracy. Its peace must be planted upon the tested foundations of political liberty. We have no selfish ends to serve. We desire no conquest, no dominion. We seek no indemnities for ourselves, no material compensation for the sacrifices we shall freely make. We are but one of the champions of the rights of mankind. We shall be satisfied when those rights have been made as secure as the faith and the freedom of nations can make them.\\n\\nJust because we fight without rancor and without selfish object, seeking nothing for ourselves but what we shall wish to share with all free peoples, we shall, I feel confident, conduct our operations as belligerents without passion and ourselves observe with proud punctilio the principles of right and of fair play we profess to be fighting for.\\n\\nâ€¦\\n\\nIt will be all the easier for us to conduct ourselves as belligerents in a high spirit of right and fairness because we act without animus, not in enmity toward a people or with the desire to bring any injury or disadvantage upon them, but only in armed opposition to an irresponsible government which has thrown aside all considerations of humanity and of right and is running amuck. We are, let me say again, the sincere friends of the German people, and shall desire nothing so much as the early reestablishment of intimate relations of mutual advantage between usâ€”however hard it may be for them, for the time being, to believe that this is spoken from our hearts.\\n\\nWe have borne with their present government through all these bitter months because of that friendshipâ€”exercising a patience and forbearance which would otherwise have been impossible. We shall, happily, still have an opportunity to prove that friendship in our daily attitude and actions toward the millions of men and women of German birth and native sympathy who live among us and share our life, and we shall be proud to prove it toward all who are in fact loyal to their neighbors and to the government in the hour of test. They are, most of them, as true and loyal Americans as if they had never known any other fealty or allegiance. They will be prompt to stand with us in rebuking and restraining the few who may be of a different mind and purpose. If there should be disloyalty, it will be dealt with with a firm hand of stern repression; but, if it lifts its head at all, it will lift it only here and there and without countenance except from a lawless and malignant few.\\n\\nIt is a distressing and oppressive duty, gentlemen of the Congress, which I have performed in thus addressing you. There are, it may be, many months of fiery trial and sacrifice ahead of us. It is a fearful thing to lead this great peaceful people into war, into the most terrible and disastrous of all wars, civilization itself seeming to be in the balance. But the right is more precious than peace, and we shall fight for the things which we have always carried nearest our heartsâ€”for democracy, for the right of those who submit to authority to have a voice in their own governments, for the rights and liberties of small nations, for a universal dominion of right by such a concert of free peoples as shall bring peace and safety to all nations and make the world itself at last free.\\n\\nTo such a task we can dedicate our lives and our fortunes, everything that we are and everything that we have, with the pride of those who know that the day has come when America is privileged to spend her blood and her might for the principles that gave her birth and happiness and the peace which she has treasured. God helping her, she can do no other.', metadata={'source': 'speech.txt'})]"
      ]
     },
     "execution_count": 1,
     "metadata": {},
     "output_type": "execute_result"
    }
   ],
   "source": [
    "## Data Ingestion\n",
    "from langchain_community.document_loaders import TextLoader\n",
    "\n",
    "loader = TextLoader(\"speech.txt\")\n",
    "text_documents = loader.load()\n",
    "text_documents"
   ]
  },
  {
   "cell_type": "code",
   "execution_count": 3,
   "metadata": {},
   "outputs": [],
   "source": [
    "import os\n",
    "from dotenv import load_dotenv\n",
    "\n",
    "load_dotenv()\n",
    "\n",
    "# os.environ[\"OPENAI_API_KEY\"] = os.getenv(\"OPENAI_API_KEY\")\n",
    "os.environ[\"LANGCHAIN_TRACING_V2\"] = \"true\"\n",
    "os.environ[\"LANGCHAIN_API_KEY\"] = os.getenv(\"LANGCHAIN_API_KEY\")"
   ]
  },
  {
   "cell_type": "code",
   "execution_count": 31,
   "metadata": {},
   "outputs": [],
   "source": [
    "# web based loader\n",
    "from langchain_community.document_loaders import WebBaseLoader\n",
    "import bs4\n",
    "\n",
    "## load,chunk and index the content of the html page\n",
    "\n",
    "# loader = WebBaseLoader(\n",
    "#     web_paths=(\"https://docs.simplifyqa.app/docs/feature\",),\n",
    "#     bs_kwargs=dict(\n",
    "#         parse_only=bs4.SoupStrainer(\n",
    "#             class_=(\"post-title\", \"post-content\", \"post-header\")\n",
    "#         )\n",
    "#     ),\n",
    "# )\n",
    "\n",
    "loader = WebBaseLoader(\"https://docs.simplifyqa.app/docs/feature\")\n",
    "\n",
    "text_documents = loader.load()"
   ]
  },
  {
   "cell_type": "code",
   "execution_count": 32,
   "metadata": {},
   "outputs": [
    {
     "data": {
      "text/plain": [
       "[Document(page_content='\\n\\n\\nSimplifyQA documentation\\n  \\n   \\n\\n\\n\\n\\n\\n\\n\\n', metadata={'source': 'https://docs.simplifyqa.app/docs/feature', 'title': 'SimplifyQA documentation\\n  \\n   ', 'language': 'en'})]"
      ]
     },
     "execution_count": 32,
     "metadata": {},
     "output_type": "execute_result"
    }
   ],
   "source": [
    "text_documents"
   ]
  },
  {
   "cell_type": "code",
   "execution_count": 24,
   "metadata": {},
   "outputs": [],
   "source": [
    "## Pdf reader\n",
    "from langchain_community.document_loaders import PyPDFLoader\n",
    "\n",
    "loader = PyPDFLoader(\"Jenkins-Readme.pdf\")\n",
    "docs = loader.load()"
   ]
  },
  {
   "cell_type": "code",
   "execution_count": 25,
   "metadata": {},
   "outputs": [
    {
     "data": {
      "text/plain": [
       "[Document(page_content='SimplifyQA Pipeline Connector is an update to our existing \\nJenkins Plugin with improved features.  It offers seamless \\nintegration with SimplifyQA tool and triggers automated \\nscripts execution.  \\nThis plugin must be used in combination with SimplifyQA automation tool. It supports from Jenkins \\nversion –  \\nNew features that are added to this improved utility are controlling the Build Failure status based on \\nthe percentage of failed testcases, improved timeouts and support to different types of Jenkins \\nproject.  \\nFollow below steps for Integration  \\n1. SimplifyQA Agent should be installed and registered in the Host system. Login to \\nSimplifyQA application, follow the steps in Help Guide to Download and install \\nthe Agent and register the machine in which installation is done.  \\n2. Create Suite of automated testcases that needs to be executed as part of CICD \\npipeline.  \\n3. Create a Pipeline with required suite and provide details of registered machine. \\nThe system would also need other execution related info like release, sprint, test \\ndata environment and browser to trigger the execution. Enter the necessary \\ndetails and save.   \\n4. The system generates a pipeline token with the entered details. Copy the token.  \\n5. In Jenkins, install the SimplifyQA Pipeline connector, under Manage Jenkins >> \\nPlugin Manager.  \\n6. Under the created Jenkins project, now select the SimplifyQA section in the Build \\nTab and enter appropriate URL (SimplifyQA URL) and copied pipeline token.  \\n7. Enter the failure percentage and enable verbose as required. Failure percentage \\nwould determine, when the build needs to be marked as failure and Verbose flag \\nwould provide the logs with or without details. Save the details.  \\n8. Post build, Jenkins would trigger the execution of mentioned suite in registered \\nmachine.  \\n9. Logs would be available in Jenkins console and ??????  \\n10. Results would also be available in SimplifyQA reports section. There would also \\nbe an easy navigation to SimplifyQA reports section from logs. Users can view the \\nreport and download as PDF.  \\n11. Tool can also trigger email to mentioned users, post completion of execution.  ', metadata={'source': 'Jenkins-Readme.pdf', 'page': 0}),\n",
       " Document(page_content='About SimplifyQA  \\nWelcome to SimplifyQA , the only Application Management Tool (ALM) you’ll ever need. SimplifyQA , is \\ndesigned to make application management and testing easy, fast and reliable for anyone, regardless of \\ncoding skills and technical knowledge. With update on Jenkins Utility, we o ffer better support and cover \\nwide variety of projects to give you a more awesome CICD integration.  ', metadata={'source': 'Jenkins-Readme.pdf', 'page': 1})]"
      ]
     },
     "execution_count": 25,
     "metadata": {},
     "output_type": "execute_result"
    }
   ],
   "source": [
    "docs"
   ]
  },
  {
   "cell_type": "code",
   "execution_count": 26,
   "metadata": {},
   "outputs": [
    {
     "data": {
      "text/plain": [
       "[Document(page_content='SimplifyQA Pipeline Connector is an update to our existing \\nJenkins Plugin with improved features.  It offers seamless \\nintegration with SimplifyQA tool and triggers automated \\nscripts execution.  \\nThis plugin must be used in combination with SimplifyQA automation tool. It supports from Jenkins \\nversion –  \\nNew features that are added to this improved utility are controlling the Build Failure status based on \\nthe percentage of failed testcases, improved timeouts and support to different types of Jenkins \\nproject.  \\nFollow below steps for Integration  \\n1. SimplifyQA Agent should be installed and registered in the Host system. Login to \\nSimplifyQA application, follow the steps in Help Guide to Download and install \\nthe Agent and register the machine in which installation is done.  \\n2. Create Suite of automated testcases that needs to be executed as part of CICD \\npipeline.  \\n3. Create a Pipeline with required suite and provide details of registered machine.', metadata={'source': 'Jenkins-Readme.pdf', 'page': 0}),\n",
       " Document(page_content='2. Create Suite of automated testcases that needs to be executed as part of CICD \\npipeline.  \\n3. Create a Pipeline with required suite and provide details of registered machine. \\nThe system would also need other execution related info like release, sprint, test \\ndata environment and browser to trigger the execution. Enter the necessary \\ndetails and save.   \\n4. The system generates a pipeline token with the entered details. Copy the token.  \\n5. In Jenkins, install the SimplifyQA Pipeline connector, under Manage Jenkins >> \\nPlugin Manager.  \\n6. Under the created Jenkins project, now select the SimplifyQA section in the Build \\nTab and enter appropriate URL (SimplifyQA URL) and copied pipeline token.  \\n7. Enter the failure percentage and enable verbose as required. Failure percentage \\nwould determine, when the build needs to be marked as failure and Verbose flag \\nwould provide the logs with or without details. Save the details.', metadata={'source': 'Jenkins-Readme.pdf', 'page': 0}),\n",
       " Document(page_content='would determine, when the build needs to be marked as failure and Verbose flag \\nwould provide the logs with or without details. Save the details.  \\n8. Post build, Jenkins would trigger the execution of mentioned suite in registered \\nmachine.  \\n9. Logs would be available in Jenkins console and ??????  \\n10. Results would also be available in SimplifyQA reports section. There would also \\nbe an easy navigation to SimplifyQA reports section from logs. Users can view the \\nreport and download as PDF.  \\n11. Tool can also trigger email to mentioned users, post completion of execution.', metadata={'source': 'Jenkins-Readme.pdf', 'page': 0}),\n",
       " Document(page_content='About SimplifyQA  \\nWelcome to SimplifyQA , the only Application Management Tool (ALM) you’ll ever need. SimplifyQA , is \\ndesigned to make application management and testing easy, fast and reliable for anyone, regardless of \\ncoding skills and technical knowledge. With update on Jenkins Utility, we o ffer better support and cover \\nwide variety of projects to give you a more awesome CICD integration.', metadata={'source': 'Jenkins-Readme.pdf', 'page': 1})]"
      ]
     },
     "execution_count": 26,
     "metadata": {},
     "output_type": "execute_result"
    }
   ],
   "source": [
    "from langchain.text_splitter import RecursiveCharacterTextSplitter\n",
    "\n",
    "text_splitter = RecursiveCharacterTextSplitter(chunk_size=1000, chunk_overlap=200)\n",
    "documents = text_splitter.split_documents(docs)\n",
    "documents[:5]"
   ]
  },
  {
   "cell_type": "code",
   "execution_count": 27,
   "metadata": {},
   "outputs": [
    {
     "data": {
      "text/plain": [
       "[Document(page_content='SimplifyQA Pipeline Connector is an update to our existing \\nJenkins Plugin with improved features.  It offers seamless \\nintegration with SimplifyQA tool and triggers automated \\nscripts execution.  \\nThis plugin must be used in combination with SimplifyQA automation tool. It supports from Jenkins \\nversion –  \\nNew features that are added to this improved utility are controlling the Build Failure status based on \\nthe percentage of failed testcases, improved timeouts and support to different types of Jenkins \\nproject.  \\nFollow below steps for Integration  \\n1. SimplifyQA Agent should be installed and registered in the Host system. Login to \\nSimplifyQA application, follow the steps in Help Guide to Download and install \\nthe Agent and register the machine in which installation is done.  \\n2. Create Suite of automated testcases that needs to be executed as part of CICD \\npipeline.  \\n3. Create a Pipeline with required suite and provide details of registered machine.', metadata={'source': 'Jenkins-Readme.pdf', 'page': 0}),\n",
       " Document(page_content='2. Create Suite of automated testcases that needs to be executed as part of CICD \\npipeline.  \\n3. Create a Pipeline with required suite and provide details of registered machine. \\nThe system would also need other execution related info like release, sprint, test \\ndata environment and browser to trigger the execution. Enter the necessary \\ndetails and save.   \\n4. The system generates a pipeline token with the entered details. Copy the token.  \\n5. In Jenkins, install the SimplifyQA Pipeline connector, under Manage Jenkins >> \\nPlugin Manager.  \\n6. Under the created Jenkins project, now select the SimplifyQA section in the Build \\nTab and enter appropriate URL (SimplifyQA URL) and copied pipeline token.  \\n7. Enter the failure percentage and enable verbose as required. Failure percentage \\nwould determine, when the build needs to be marked as failure and Verbose flag \\nwould provide the logs with or without details. Save the details.', metadata={'source': 'Jenkins-Readme.pdf', 'page': 0}),\n",
       " Document(page_content='would determine, when the build needs to be marked as failure and Verbose flag \\nwould provide the logs with or without details. Save the details.  \\n8. Post build, Jenkins would trigger the execution of mentioned suite in registered \\nmachine.  \\n9. Logs would be available in Jenkins console and ??????  \\n10. Results would also be available in SimplifyQA reports section. There would also \\nbe an easy navigation to SimplifyQA reports section from logs. Users can view the \\nreport and download as PDF.  \\n11. Tool can also trigger email to mentioned users, post completion of execution.', metadata={'source': 'Jenkins-Readme.pdf', 'page': 0}),\n",
       " Document(page_content='About SimplifyQA  \\nWelcome to SimplifyQA , the only Application Management Tool (ALM) you’ll ever need. SimplifyQA , is \\ndesigned to make application management and testing easy, fast and reliable for anyone, regardless of \\ncoding skills and technical knowledge. With update on Jenkins Utility, we o ffer better support and cover \\nwide variety of projects to give you a more awesome CICD integration.', metadata={'source': 'Jenkins-Readme.pdf', 'page': 1})]"
      ]
     },
     "execution_count": 27,
     "metadata": {},
     "output_type": "execute_result"
    }
   ],
   "source": [
    "documents"
   ]
  },
  {
   "cell_type": "code",
   "execution_count": 28,
   "metadata": {},
   "outputs": [],
   "source": [
    "## Vector Embedding And Vector Store\n",
    "# from langchain_openai import OpenAIEmbeddings\n",
    "from langchain_community.embeddings import OllamaEmbeddings\n",
    "from langchain_community.vectorstores import Chroma\n",
    "\n",
    "# db = Chroma.from_documents(documents, OpenAIEmbeddings())\n",
    "db = Chroma.from_documents(documents, OllamaEmbeddings())"
   ]
  },
  {
   "cell_type": "code",
   "execution_count": 30,
   "metadata": {},
   "outputs": [
    {
     "name": "stdout",
     "output_type": "stream",
     "text": [
      "2. Create Suite of automated testcases that needs to be executed as part of CICD \n",
      "pipeline.  \n",
      "3. Create a Pipeline with required suite and provide details of registered machine. \n",
      "The system would also need other execution related info like release, sprint, test \n",
      "data environment and browser to trigger the execution. Enter the necessary \n",
      "details and save.   \n",
      "4. The system generates a pipeline token with the entered details. Copy the token.  \n",
      "5. In Jenkins, install the SimplifyQA Pipeline connector, under Manage Jenkins >> \n",
      "Plugin Manager.  \n",
      "6. Under the created Jenkins project, now select the SimplifyQA section in the Build \n",
      "Tab and enter appropriate URL (SimplifyQA URL) and copied pipeline token.  \n",
      "7. Enter the failure percentage and enable verbose as required. Failure percentage \n",
      "would determine, when the build needs to be marked as failure and Verbose flag \n",
      "would provide the logs with or without details. Save the details.\n"
     ]
    }
   ],
   "source": [
    "query = \"What are the prerequisites to use SimplifyQA Pipeline Connector?\"\n",
    "retireved_results = db.similarity_search(query)\n",
    "print(retireved_results[0].page_content)"
   ]
  },
  {
   "cell_type": "code",
   "execution_count": 17,
   "metadata": {},
   "outputs": [],
   "source": [
    "## FAISS Vector Database\n",
    "from langchain_community.vectorstores import FAISS\n",
    "\n",
    "db = FAISS.from_documents(documents[:15], OpenAIEmbeddings())"
   ]
  },
  {
   "cell_type": "code",
   "execution_count": null,
   "metadata": {},
   "outputs": [],
   "source": [
    "# TODO: Implement with LanceDB https://lancedb.com/"
   ]
  }
 ],
 "metadata": {
  "kernelspec": {
   "display_name": "Python 3",
   "language": "python",
   "name": "python3"
  },
  "language_info": {
   "codemirror_mode": {
    "name": "ipython",
    "version": 3
   },
   "file_extension": ".py",
   "mimetype": "text/x-python",
   "name": "python",
   "nbconvert_exporter": "python",
   "pygments_lexer": "ipython3",
   "version": "3.10.11"
  }
 },
 "nbformat": 4,
 "nbformat_minor": 2
}
