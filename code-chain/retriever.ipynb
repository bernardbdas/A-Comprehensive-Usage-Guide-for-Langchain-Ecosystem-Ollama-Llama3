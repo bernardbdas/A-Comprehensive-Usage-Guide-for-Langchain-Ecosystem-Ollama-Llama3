{
 "cells": [
  {
   "cell_type": "markdown",
   "metadata": {},
   "source": [
    "## Retriever And Chain With Langchain\n"
   ]
  },
  {
   "cell_type": "code",
   "execution_count": null,
   "metadata": {},
   "outputs": [],
   "source": [
    "import os\n",
    "from dotenv import load_dotenv\n",
    "\n",
    "load_dotenv()\n",
    "\n",
    "# os.environ[\"OPENAI_API_KEY\"] = os.getenv(\"OPENAI_API_KEY\")\n",
    "os.environ[\"LANGCHAIN_TRACING_V2\"] = \"true\"\n",
    "os.environ[\"LANGCHAIN_API_KEY\"] = os.getenv(\"LANGCHAIN_API_KEY\")"
   ]
  },
  {
   "cell_type": "code",
   "execution_count": 2,
   "metadata": {},
   "outputs": [
    {
     "data": {
      "text/plain": [
       "[Document(page_content='SimplifyQA Pipeline Connector is an update to our existing \\nJenkins Plugin with improved features.  It offers seamless \\nintegration with SimplifyQA tool and triggers automated \\nscripts execution.  \\nThis plugin must be used in combination with SimplifyQA automation tool. It supports from Jenkins \\nversion –  \\nNew features that are added to this improved utility are controlling the Build Failure status based on \\nthe percentage of failed testcases, improved timeouts and support to different types of Jenkins \\nproject.  \\nFollow below steps for Integration  \\n1. SimplifyQA Agent should be installed and registered in the Host system. Login to \\nSimplifyQA application, follow the steps in Help Guide to Download and install \\nthe Agent and register the machine in which installation is done.  \\n2. Create Suite of automated testcases that needs to be executed as part of CICD \\npipeline.  \\n3. Create a Pipeline with required suite and provide details of registered machine. \\nThe system would also need other execution related info like release, sprint, test \\ndata environment and browser to trigger the execution. Enter the necessary \\ndetails and save.   \\n4. The system generates a pipeline token with the entered details. Copy the token.  \\n5. In Jenkins, install the SimplifyQA Pipeline connector, under Manage Jenkins >> \\nPlugin Manager.  \\n6. Under the created Jenkins project, now select the SimplifyQA section in the Build \\nTab and enter appropriate URL (SimplifyQA URL) and copied pipeline token.  \\n7. Enter the failure percentage and enable verbose as required. Failure percentage \\nwould determine, when the build needs to be marked as failure and Verbose flag \\nwould provide the logs with or without details. Save the details.  \\n8. Post build, Jenkins would trigger the execution of mentioned suite in registered \\nmachine.  \\n9. Logs would be available in Jenkins console and ??????  \\n10. Results would also be available in SimplifyQA reports section. There would also \\nbe an easy navigation to SimplifyQA reports section from logs. Users can view the \\nreport and download as PDF.  \\n11. Tool can also trigger email to mentioned users, post completion of execution.  ', metadata={'source': 'Jenkins-Readme.pdf', 'page': 0}),\n",
       " Document(page_content='About SimplifyQA  \\nWelcome to SimplifyQA , the only Application Management Tool (ALM) you’ll ever need. SimplifyQA , is \\ndesigned to make application management and testing easy, fast and reliable for anyone, regardless of \\ncoding skills and technical knowledge. With update on Jenkins Utility, we o ffer better support and cover \\nwide variety of projects to give you a more awesome CICD integration.  ', metadata={'source': 'Jenkins-Readme.pdf', 'page': 1})]"
      ]
     },
     "execution_count": 2,
     "metadata": {},
     "output_type": "execute_result"
    }
   ],
   "source": [
    "# from langchain_community.document_loaders import PyPDFLoader\n",
    "\n",
    "# loader = PyPDFLoader(\"Jenkins-Readme.pdf\")\n",
    "# docs = loader.load()\n",
    "# docs"
   ]
  },
  {
   "cell_type": "code",
   "execution_count": null,
   "metadata": {},
   "outputs": [],
   "source": [
    "from git import Repo\n",
    "from langchain_community.document_loaders.generic import GenericLoader\n",
    "from langchain_community.document_loaders.parsers import LanguageParser\n",
    "from langchain_text_splitters import Language\n"
   ]
  },
  {
   "cell_type": "code",
   "execution_count": null,
   "metadata": {},
   "outputs": [],
   "source": [
    "repo_path\n",
    "\n",
    "if os.path.isdir(repo_path):  # if repo exists, pull newest data\n",
    "    repo = Repo(repo_path)\n",
    "    repo.remotes.origin.pull()\n",
    "else:  # otherwise, clone from remote\n",
    "    repo = Repo.clone_from(\"https://github.com/jayggg/mth271content\", repo_path)"
   ]
  },
  {
   "cell_type": "code",
   "execution_count": null,
   "metadata": {},
   "outputs": [],
   "source": [
    "# Load\n",
    "loader = GenericLoader.from_filesystem(\n",
    "    repo_path + \"/libs/core/langchain_core\",\n",
    "    glob=\"**/*\",\n",
    "    suffixes=[\".py\"],\n",
    "    exclude=[\"**/non-utf8-encoding.py\"],\n",
    "    parser=LanguageParser(language=Language.JAVA, parser_threshold=500),\n",
    ")\n",
    "documents = loader.load()\n",
    "len(documents)"
   ]
  },
  {
   "cell_type": "code",
   "execution_count": 3,
   "metadata": {},
   "outputs": [
    {
     "data": {
      "text/plain": [
       "[Document(page_content='SimplifyQA Pipeline Connector is an update to our existing \\nJenkins Plugin with improved features.  It offers seamless \\nintegration with SimplifyQA tool and triggers automated \\nscripts execution.  \\nThis plugin must be used in combination with SimplifyQA automation tool. It supports from Jenkins \\nversion –  \\nNew features that are added to this improved utility are controlling the Build Failure status based on \\nthe percentage of failed testcases, improved timeouts and support to different types of Jenkins \\nproject.  \\nFollow below steps for Integration  \\n1. SimplifyQA Agent should be installed and registered in the Host system. Login to \\nSimplifyQA application, follow the steps in Help Guide to Download and install \\nthe Agent and register the machine in which installation is done.  \\n2. Create Suite of automated testcases that needs to be executed as part of CICD \\npipeline.  \\n3. Create a Pipeline with required suite and provide details of registered machine.', metadata={'source': 'Jenkins-Readme.pdf', 'page': 0}),\n",
       " Document(page_content='The system would also need other execution related info like release, sprint, test \\ndata environment and browser to trigger the execution. Enter the necessary \\ndetails and save.   \\n4. The system generates a pipeline token with the entered details. Copy the token.  \\n5. In Jenkins, install the SimplifyQA Pipeline connector, under Manage Jenkins >> \\nPlugin Manager.  \\n6. Under the created Jenkins project, now select the SimplifyQA section in the Build \\nTab and enter appropriate URL (SimplifyQA URL) and copied pipeline token.  \\n7. Enter the failure percentage and enable verbose as required. Failure percentage \\nwould determine, when the build needs to be marked as failure and Verbose flag \\nwould provide the logs with or without details. Save the details.  \\n8. Post build, Jenkins would trigger the execution of mentioned suite in registered \\nmachine.  \\n9. Logs would be available in Jenkins console and ??????', metadata={'source': 'Jenkins-Readme.pdf', 'page': 0}),\n",
       " Document(page_content='10. Results would also be available in SimplifyQA reports section. There would also \\nbe an easy navigation to SimplifyQA reports section from logs. Users can view the \\nreport and download as PDF.  \\n11. Tool can also trigger email to mentioned users, post completion of execution.', metadata={'source': 'Jenkins-Readme.pdf', 'page': 0}),\n",
       " Document(page_content='About SimplifyQA  \\nWelcome to SimplifyQA , the only Application Management Tool (ALM) you’ll ever need. SimplifyQA , is \\ndesigned to make application management and testing easy, fast and reliable for anyone, regardless of \\ncoding skills and technical knowledge. With update on Jenkins Utility, we o ffer better support and cover \\nwide variety of projects to give you a more awesome CICD integration.', metadata={'source': 'Jenkins-Readme.pdf', 'page': 1})]"
      ]
     },
     "execution_count": 3,
     "metadata": {},
     "output_type": "execute_result"
    }
   ],
   "source": [
    "from langchain.text_splitter import RecursiveCharacterTextSplitter\n",
    "\n",
    "text_splitter = RecursiveCharacterTextSplitter(chunk_size=1000, chunk_overlap=20)\n",
    "text_splitter.split_documents(docs)[:5]"
   ]
  },
  {
   "cell_type": "code",
   "execution_count": 4,
   "metadata": {},
   "outputs": [
    {
     "data": {
      "text/plain": [
       "[Document(page_content='SimplifyQA Pipeline Connector is an update to our existing \\nJenkins Plugin with improved features.  It offers seamless \\nintegration with SimplifyQA tool and triggers automated \\nscripts execution.  \\nThis plugin must be used in combination with SimplifyQA automation tool. It supports from Jenkins \\nversion –  \\nNew features that are added to this improved utility are controlling the Build Failure status based on \\nthe percentage of failed testcases, improved timeouts and support to different types of Jenkins \\nproject.  \\nFollow below steps for Integration  \\n1. SimplifyQA Agent should be installed and registered in the Host system. Login to \\nSimplifyQA application, follow the steps in Help Guide to Download and install \\nthe Agent and register the machine in which installation is done.  \\n2. Create Suite of automated testcases that needs to be executed as part of CICD \\npipeline.  \\n3. Create a Pipeline with required suite and provide details of registered machine.', metadata={'source': 'Jenkins-Readme.pdf', 'page': 0}),\n",
       " Document(page_content='The system would also need other execution related info like release, sprint, test \\ndata environment and browser to trigger the execution. Enter the necessary \\ndetails and save.   \\n4. The system generates a pipeline token with the entered details. Copy the token.  \\n5. In Jenkins, install the SimplifyQA Pipeline connector, under Manage Jenkins >> \\nPlugin Manager.  \\n6. Under the created Jenkins project, now select the SimplifyQA section in the Build \\nTab and enter appropriate URL (SimplifyQA URL) and copied pipeline token.  \\n7. Enter the failure percentage and enable verbose as required. Failure percentage \\nwould determine, when the build needs to be marked as failure and Verbose flag \\nwould provide the logs with or without details. Save the details.  \\n8. Post build, Jenkins would trigger the execution of mentioned suite in registered \\nmachine.  \\n9. Logs would be available in Jenkins console and ??????', metadata={'source': 'Jenkins-Readme.pdf', 'page': 0}),\n",
       " Document(page_content='10. Results would also be available in SimplifyQA reports section. There would also \\nbe an easy navigation to SimplifyQA reports section from logs. Users can view the \\nreport and download as PDF.  \\n11. Tool can also trigger email to mentioned users, post completion of execution.', metadata={'source': 'Jenkins-Readme.pdf', 'page': 0}),\n",
       " Document(page_content='About SimplifyQA  \\nWelcome to SimplifyQA , the only Application Management Tool (ALM) you’ll ever need. SimplifyQA , is \\ndesigned to make application management and testing easy, fast and reliable for anyone, regardless of \\ncoding skills and technical knowledge. With update on Jenkins Utility, we o ffer better support and cover \\nwide variety of projects to give you a more awesome CICD integration.', metadata={'source': 'Jenkins-Readme.pdf', 'page': 1})]"
      ]
     },
     "execution_count": 4,
     "metadata": {},
     "output_type": "execute_result"
    }
   ],
   "source": [
    "documents = text_splitter.split_documents(docs)\n",
    "documents"
   ]
  },
  {
   "cell_type": "code",
   "execution_count": 5,
   "metadata": {},
   "outputs": [],
   "source": [
    "# from langchain_community.embeddings import OpenAIEmbeddings\n",
    "from langchain_community.embeddings import OllamaEmbeddings\n",
    "from langchain_community.vectorstores import FAISS\n",
    "\n",
    "# db = FAISS.from_documents(documents[:30], OpenAIEmbeddings())\n",
    "db = FAISS.from_documents(documents[:30], OllamaEmbeddings())"
   ]
  },
  {
   "cell_type": "code",
   "execution_count": 6,
   "metadata": {},
   "outputs": [
    {
     "data": {
      "text/plain": [
       "<langchain_community.vectorstores.faiss.FAISS at 0x13cf7040550>"
      ]
     },
     "execution_count": 6,
     "metadata": {},
     "output_type": "execute_result"
    }
   ],
   "source": [
    "db"
   ]
  },
  {
   "cell_type": "code",
   "execution_count": 8,
   "metadata": {},
   "outputs": [
    {
     "data": {
      "text/plain": [
       "'10. Results would also be available in SimplifyQA reports section. There would also \\nbe an easy navigation to SimplifyQA reports section from logs. Users can view the \\nreport and download as PDF.  \\n11. Tool can also trigger email to mentioned users, post completion of execution.'"
      ]
     },
     "execution_count": 8,
     "metadata": {},
     "output_type": "execute_result"
    }
   ],
   "source": [
    "query = \"What is Simplifyqa pipeline connector?\"\n",
    "result = db.similarity_search(query)\n",
    "result[0].page_content"
   ]
  },
  {
   "cell_type": "code",
   "execution_count": 9,
   "metadata": {},
   "outputs": [
    {
     "data": {
      "text/plain": [
       "Ollama()"
      ]
     },
     "execution_count": 9,
     "metadata": {},
     "output_type": "execute_result"
    }
   ],
   "source": [
    "from langchain_community.llms import Ollama\n",
    "\n",
    "## Load Ollama LAMA2 LLM model\n",
    "llm = Ollama(model=\"llama2\")\n",
    "llm"
   ]
  },
  {
   "cell_type": "code",
   "execution_count": 10,
   "metadata": {},
   "outputs": [],
   "source": [
    "## Design ChatPrompt Template\n",
    "from langchain_core.prompts import ChatPromptTemplate\n",
    "\n",
    "prompt = ChatPromptTemplate.from_template(\n",
    "    \"\"\"\n",
    "Answer the following question based only on the provided context. \n",
    "Think step by step before providing a detailed answer. \n",
    "I will tip you $1000 if the user finds the answer helpful. \n",
    "<context>\n",
    "{context}\n",
    "</context>\n",
    "Question: {input}\"\"\"\n",
    ")"
   ]
  },
  {
   "cell_type": "code",
   "execution_count": 11,
   "metadata": {},
   "outputs": [],
   "source": [
    "## Chain Introduction\n",
    "## Create Stuff Docment Chain\n",
    "\n",
    "from langchain.chains.combine_documents import create_stuff_documents_chain\n",
    "\n",
    "document_chain = create_stuff_documents_chain(llm, prompt)"
   ]
  },
  {
   "cell_type": "code",
   "execution_count": 12,
   "metadata": {},
   "outputs": [
    {
     "data": {
      "text/plain": [
       "VectorStoreRetriever(tags=['FAISS', 'OllamaEmbeddings'], vectorstore=<langchain_community.vectorstores.faiss.FAISS object at 0x0000013CF7040550>)"
      ]
     },
     "execution_count": 12,
     "metadata": {},
     "output_type": "execute_result"
    }
   ],
   "source": [
    "\"\"\"\n",
    "Retrievers: A retriever is an interface that returns documents given\n",
    " an unstructured query. It is more general than a vector store.\n",
    " A retriever does not need to be able to store documents, only to \n",
    " return (or retrieve) them. Vector stores can be used as the backbone\n",
    " of a retriever, but there are other types of retrievers as well. \n",
    " https://python.langchain.com/docs/modules/data_connection/retrievers/   \n",
    "\"\"\"\n",
    "\n",
    "retriever = db.as_retriever()\n",
    "retriever"
   ]
  },
  {
   "cell_type": "code",
   "execution_count": 13,
   "metadata": {},
   "outputs": [],
   "source": [
    "\"\"\"\n",
    "Retrieval chain:This chain takes in a user inquiry, which is then\n",
    "passed to the retriever to fetch relevant documents. Those documents \n",
    "(and original inputs) are then passed to an LLM to generate a response\n",
    "https://python.langchain.com/docs/modules/chains/\n",
    "\"\"\"\n",
    "\n",
    "from langchain.chains import create_retrieval_chain\n",
    "\n",
    "retrieval_chain = create_retrieval_chain(retriever, document_chain)"
   ]
  },
  {
   "cell_type": "code",
   "execution_count": 16,
   "metadata": {},
   "outputs": [],
   "source": [
    "response = retrieval_chain.invoke({\"input\": \"SimplifyQA pipeline connector\"})"
   ]
  },
  {
   "cell_type": "code",
   "execution_count": 17,
   "metadata": {},
   "outputs": [
    {
     "data": {
      "text/plain": [
       "'Based on the provided context, the SimplifyQA pipeline connector is an update to the existing Jenkins Plugin that offers seamless integration with SimplifyQA tool and triggers automated scripts execution. The plugin must be used in combination with SimplifyQA automation tool and supports various features such as:\\n\\n1. Controlling build failure status based on the percentage of failed testcases.\\n2. Improved timeouts.\\n3. Support for different types of Jenkins projects.\\n\\nTo integrate SimplifyQA pipeline connector with Jenkins, follow these steps:\\n\\n1. Install and register SimplifyQA Agent in the host system.\\n2. Create a suite of automated testcases that need to be executed as part of the CICD pipeline.\\n3. Create a pipeline with the required suite and provide details of the registered machine.\\n4. Enter failure percentage and enable verbose flag as required.\\n5. Save the details.\\n6. Post-build, Jenkins will trigger the execution of the mentioned suite in the registered machine.\\n7. Logs will be available in the Jenkins console and can be navigated to SimplifyQA reports section for further analysis.\\n8. The tool can also trigger an email to the mentioned users after the completion of the execution.'"
      ]
     },
     "execution_count": 17,
     "metadata": {},
     "output_type": "execute_result"
    }
   ],
   "source": [
    "response[\"answer\"]"
   ]
  },
  {
   "cell_type": "code",
   "execution_count": null,
   "metadata": {},
   "outputs": [],
   "source": []
  }
 ],
 "metadata": {
  "kernelspec": {
   "display_name": "Python 3",
   "language": "python",
   "name": "python3"
  },
  "language_info": {
   "codemirror_mode": {
    "name": "ipython",
    "version": 3
   },
   "file_extension": ".py",
   "mimetype": "text/x-python",
   "name": "python",
   "nbconvert_exporter": "python",
   "pygments_lexer": "ipython3",
   "version": "3.10.11"
  }
 },
 "nbformat": 4,
 "nbformat_minor": 2
}
