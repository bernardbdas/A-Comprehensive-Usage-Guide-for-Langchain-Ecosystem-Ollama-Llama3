{
 "cells": [
  {
   "cell_type": "markdown",
   "metadata": {},
   "source": [
    "## Retriever And Chain With Langchain\n"
   ]
  },
  {
   "cell_type": "code",
   "execution_count": null,
   "metadata": {},
   "outputs": [],
   "source": [
    "import os\n",
    "from dotenv import load_dotenv\n",
    "\n",
    "load_dotenv()\n",
    "\n",
    "# os.environ[\"OPENAI_API_KEY\"] = os.getenv(\"OPENAI_API_KEY\")\n",
    "os.environ[\"LANGCHAIN_TRACING_V2\"] = \"true\"\n",
    "os.environ[\"LANGCHAIN_API_KEY\"] = os.getenv(\"LANGCHAIN_API_KEY\")"
   ]
  },
  {
   "cell_type": "code",
   "execution_count": null,
   "metadata": {},
   "outputs": [],
   "source": [
    "# from langchain_community.document_loaders import PyPDFLoader\n",
    "\n",
    "# loader = PyPDFLoader(\"Jenkins-Readme.pdf\")\n",
    "# docs = loader.load()\n",
    "# docs"
   ]
  },
  {
   "cell_type": "code",
   "execution_count": null,
   "metadata": {},
   "outputs": [],
   "source": [
    "from git import Repo\n",
    "from langchain_community.document_loaders.generic import GenericLoader\n",
    "from langchain_community.document_loaders.parsers import LanguageParser\n",
    "from langchain_text_splitters import Language\n"
   ]
  },
  {
   "cell_type": "code",
   "execution_count": null,
   "metadata": {},
   "outputs": [],
   "source": [
    "repo_path = \"sqadrivers\"\n",
    "\n",
    "if os.path.isdir(repo_path):  # if repo exists, pull newest data\n",
    "    repo = Repo(repo_path)\n",
    "    repo.remotes.origin.pull()\n",
    "# else:  # otherwise, clone from remote\n",
    "#     repo = Repo.clone_from(\"https://github.com/jayggg/mth271content\", repo_path)"
   ]
  },
  {
   "cell_type": "code",
   "execution_count": null,
   "metadata": {},
   "outputs": [],
   "source": [
    "repo"
   ]
  },
  {
   "cell_type": "code",
   "execution_count": null,
   "metadata": {},
   "outputs": [],
   "source": [
    "# Load\n",
    "loader = GenericLoader.from_filesystem(\n",
    "    repo_path,\n",
    "    glob=\"**/*\",\n",
    "    suffixes=[\".java\"],\n",
    "    parser=LanguageParser(language=Language.JAVA),\n",
    ")\n",
    "documents = loader.load()\n",
    "len(documents)"
   ]
  },
  {
   "cell_type": "code",
   "execution_count": null,
   "metadata": {},
   "outputs": [],
   "source": [
    "from langchain_text_splitters import RecursiveCharacterTextSplitter\n",
    "\n",
    "java_splitter = RecursiveCharacterTextSplitter.from_language(\n",
    "    language=Language.JAVA, chunk_size=2000, chunk_overlap=200\n",
    ")\n",
    "texts = java_splitter.split_documents(documents)\n",
    "len(texts)"
   ]
  },
  {
   "cell_type": "code",
   "execution_count": null,
   "metadata": {},
   "outputs": [],
   "source": [
    "documents = java_splitter.split_documents(texts)\n",
    "documents"
   ]
  },
  {
   "cell_type": "code",
   "execution_count": null,
   "metadata": {},
   "outputs": [],
   "source": [
    "# from langchain_community.embeddings import OpenAIEmbeddings\n",
    "from langchain_community.embeddings import OllamaEmbeddings\n",
    "from langchain_community.vectorstores import FAISS\n",
    "\n",
    "# db = FAISS.from_documents(documents[:30], OpenAIEmbeddings())\n",
    "db = FAISS.from_documents(documents[:30], OllamaEmbeddings(model=\"starcoder2:3b\"))"
   ]
  },
  {
   "cell_type": "code",
   "execution_count": null,
   "metadata": {},
   "outputs": [],
   "source": [
    "# from langchain_community.embeddings import OpenAIEmbeddings\n",
    "from langchain_community.embeddings import OllamaEmbeddings\n",
    "from langchain_community.vectorstores import FAISS\n",
    "\n",
    "# db.save_local(\"faiss_index\")\n",
    "db = FAISS.load_local(\n",
    "    \"faiss_index\",\n",
    "    OllamaEmbeddings(model=\"starcoder2:3b\"),\n",
    "    allow_dangerous_deserialization=True,\n",
    ")\n",
    "db"
   ]
  },
  {
   "cell_type": "code",
   "execution_count": null,
   "metadata": {},
   "outputs": [],
   "source": [
    "query = \"iosdrivers\"\n",
    "result = db.similarity_search(query)\n",
    "result[0].page_content"
   ]
  },
  {
   "cell_type": "code",
   "execution_count": 10,
   "metadata": {},
   "outputs": [
    {
     "data": {
      "text/plain": [
       "Ollama(model='starcoder2:3b')"
      ]
     },
     "execution_count": 10,
     "metadata": {},
     "output_type": "execute_result"
    }
   ],
   "source": [
    "from langchain_community.llms import Ollama\n",
    "\n",
    "## Load Ollama LAMA2 LLM model\n",
    "llm = Ollama(model=\"starcoder2:3b\")\n",
    "llm"
   ]
  },
  {
   "cell_type": "code",
   "execution_count": 11,
   "metadata": {},
   "outputs": [],
   "source": [
    "## Design ChatPrompt Template\n",
    "from langchain_core.prompts import ChatPromptTemplate\n",
    "\n",
    "prompt = ChatPromptTemplate.from_template(\n",
    "    \"\"\"\n",
    "Answer the following question based only on the provided context. \n",
    "Think step by step before providing a detailed answer. \n",
    "I will tip you $1000 if the user finds the answer helpful. \n",
    "<context>\n",
    "{context}\n",
    "</context>\n",
    "Question: {input}\"\"\"\n",
    ")"
   ]
  },
  {
   "cell_type": "code",
   "execution_count": 12,
   "metadata": {},
   "outputs": [],
   "source": [
    "## Chain Introduction\n",
    "## Create Stuff Docment Chain\n",
    "\n",
    "from langchain.chains.combine_documents import create_stuff_documents_chain\n",
    "\n",
    "document_chain = create_stuff_documents_chain(llm, prompt)"
   ]
  },
  {
   "cell_type": "code",
   "execution_count": 13,
   "metadata": {},
   "outputs": [
    {
     "data": {
      "text/plain": [
       "VectorStoreRetriever(tags=['FAISS', 'OllamaEmbeddings'], vectorstore=<langchain_community.vectorstores.faiss.FAISS object at 0x000002997EE4F0D0>)"
      ]
     },
     "execution_count": 13,
     "metadata": {},
     "output_type": "execute_result"
    }
   ],
   "source": [
    "\"\"\"\n",
    "Retrievers: A retriever is an interface that returns documents given\n",
    " an unstructured query. It is more general than a vector store.\n",
    " A retriever does not need to be able to store documents, only to \n",
    " return (or retrieve) them. Vector stores can be used as the backbone\n",
    " of a retriever, but there are other types of retrievers as well. \n",
    " https://python.langchain.com/docs/modules/data_connection/retrievers/   \n",
    "\"\"\"\n",
    "\n",
    "retriever = db.as_retriever()\n",
    "retriever"
   ]
  },
  {
   "cell_type": "code",
   "execution_count": 14,
   "metadata": {},
   "outputs": [],
   "source": [
    "\"\"\"\n",
    "Retrieval chain:This chain takes in a user inquiry, which is then\n",
    "passed to the retriever to fetch relevant documents. Those documents \n",
    "(and original inputs) are then passed to an LLM to generate a response\n",
    "https://python.langchain.com/docs/modules/chains/\n",
    "\"\"\"\n",
    "\n",
    "from langchain.chains import create_retrieval_chain\n",
    "\n",
    "retrieval_chain = create_retrieval_chain(retriever, document_chain)"
   ]
  },
  {
   "cell_type": "code",
   "execution_count": 15,
   "metadata": {},
   "outputs": [],
   "source": [
    "response = retrieval_chain.invoke({\"input\": \"Write a function to compare two excel documents\"})"
   ]
  },
  {
   "cell_type": "code",
   "execution_count": 16,
   "metadata": {},
   "outputs": [
    {
     "data": {
      "text/plain": [
       "'. The function takes the name of two excel file as input and returns True if both files are same. Return False otherwise. \\n/TestProject/src/com/simplifyqa/Utility/InitializeDependence.java\\npackage com.simplifyqa.Utility;\\r\\n\\r\\nimport java.io.BufferedReader;\\r\\nimport java.io.File;\\r\\nimport java.io.FileNotFoundException;\\r\\nimport java.io.FileReader;\\r\\nimport java.lang.reflect.Field;\\r\\nimport java.net.URL;\\r\\nimport java.nio.file.Paths;\\r\\nimport java.text.DateFormat;\\r\\nimport java.text.SimpleDateFormat;\\r\\nimport java.util.Date;\\r\\n\\r\\npublic class InitializeDependence {\\r\\n\\tpublic static String currentDirectory = Paths.get(\"\").toAbsolutePath().normalize().toString();\\r\\n\\r\\n\\tpublic static String param_description_value = null;\\r\\n\\r\\n\\tpublic static String param_description_name = null;\\r\\n\\t\\r\\n\\tpublic static String brName = \"Desktop\";\\r\\n\\r\\n\\r\\n\\tpublic static String configFile = \"Configuration.properties\";\\r\\n\\tpublic static String default_browser = \"chrome\";\\r\\n\\tpublic static boolean runLocal = false;\\r\\n\\tpublic static boolean runRemote = false;\\r\\n\\tpublic static int maxPageLoadTime = 10;\\r\\n\\tpublic static int implicitWait = 30;\\r\\n\\tpublic static int pageLoadTimeOut = 240;\\r\\n\\tpublic static int pollingTime = 5;\\r\\n\\tpublic static String chromeDriverPath = \"src/com/simplifyqa/driver/chromedriver.exe\";\\r\\n\\tpublic static String geckoDriverPath = \"src/com/simplifyqa/driver/geckodriver.exe\";\\r\\n\\tpublic static boolean isHeadless = false;\\r\\n\\tpublic static int maxRetryCount = 20;\\r\\n\\tpublic static int sleepTime = 500;\\r\\n\\r\\n\\t// public static String sikuli_path=\"src\\\\\\\\com\\\\\\\\simplifyqa\\\\\\\\sikulix64\\\\\\\\\";\\r\\n\\tpublic static String sikuli_path = \"src/com/simplifyqa/sikulix32/\";\\r\\n\\r\\n\\tpublic static String chromeDriverLocal = System.getProperty(\"user.dir\") + \"/src/com/simplifyqa/driver/chromedriver\";\\r\\n\\tpublic static String geckoDriverLocal = System.getProperty(\"user.dir\") + \"/src/com/simplifyqa/driver/geckodriver\";\\r\\n\\tpublic static String chromeDriverRemote = \"D:\\\\\\\\Automation_Selenium\\\\\\\\src\\\\\\\\main\\\\\\\\java\\\\\\\\com\\\\\\\\simplifyqa\\\\\\\\driver\\\\\\\\chromedriver.exe\";\\r\\n\\r\\n\\tpublic static boolean isSikuliInstalled = true;\\r\\n\\tpublic static boolean sikulix64 = false;\\r\\n\\t\\r\\n\\tpublic static String platformName = null;\\r\\n\\tpublic static String deviceName = null;\\r\\n\\tpublic static String appiumVersion = null;\\r\\n\\t\\tpublic static void initialize() {\\r\\n\\t\\ttry{\\r\\n\\t\\t\\t\\r\\n\\t\\t\\tString os = System.getProperty(\"os.name\").toLowerCase();\\r\\n\\t\\t\\tif (os.contains(\"mac\")) {\\r\\n\\t\\t\\t\\tsikuli_path=\"src/com/simplifyqa/sikulix64/\";\\r\\n\\t\\t\\t}\\r\\n\\r\\n\\t\\t\\tFile f = new File(configFile);\\r\\n\\t\\t\\tFileReader fr = null;\\r\\n\\t\\t\\tString line = \"\";\\r\\n\\t\\t\\ttry {\\r\\n\\r\\n\\t\\t\\t\\tfr = new FileReader(f.getAbsoluteFile());\\r\\n\\t\\t\\t\\tBufferedReader br = new BufferedReader(fr);\\r\\n\\t\\t\\t\\twhile ((line = br.readLine()) != null) {\\r\\n\\t\\t\\t\\t\\tif (line == \"\" || line.startsWith(\"#\"))\\r\\n\\t\\t\\t\\t\\t\\tcontinue;\\r\\n\\r\\n\\t\\t\\t\\t\\tif (!line.contains(\"=\"))\\r\\n\\t\\t\\t\\t\\t\\tthrow new Exception(\"Configuration file has an invalid line\");\\r\\n\\r\\n\\t\\t\\t\\t\\tString[] parts = line.split(\"=\", 2);\\r\\n\\t\\t\\t\\t\\tField field = InitializeDependence.class.getField(parts[0]);\\r\\n\\t\\t\\t\\t\\tfield.set(null, parts[1].trim());\\r\\n\\t\\t\\t\\t}\\r\\n\\r\\n\\t\\t\\t\\tfr.close();\\r\\n\\r\\n\\t\\t\\t} catch (Exception e) {\\r\\n\\t\\t\\t\\te.printStackTrace();\\r\\n\\t\\t\\t} finally {\\r\\n\\t\\t\\t\\ttry{\\r\\n\\t\\t\\t\\t\\tfr.close();\\r\\n\\t\\t\\t\\t}catch(Exception e){\\r\\n\\t\\t\\t\\t\\t\\r\\n\\t\\t\\t\\t}\\r\\n\\t\\t\\t}\\r\\n\\r\\n\\t\\t} catch (Exception e) {\\r\\n\\t\\t\\tSystem.out.println(\"Config file not found\");\\r\\n\\t\\t}\\r\\n\\t}\\r\\n}\\r\\n'"
      ]
     },
     "execution_count": 16,
     "metadata": {},
     "output_type": "execute_result"
    }
   ],
   "source": [
    "response[\"answer\"]"
   ]
  },
  {
   "cell_type": "code",
   "execution_count": null,
   "metadata": {},
   "outputs": [],
   "source": []
  }
 ],
 "metadata": {
  "kernelspec": {
   "display_name": "Python 3",
   "language": "python",
   "name": "python3"
  },
  "language_info": {
   "codemirror_mode": {
    "name": "ipython",
    "version": 3
   },
   "file_extension": ".py",
   "mimetype": "text/x-python",
   "name": "python",
   "nbconvert_exporter": "python",
   "pygments_lexer": "ipython3",
   "version": "3.10.11"
  }
 },
 "nbformat": 4,
 "nbformat_minor": 2
}
